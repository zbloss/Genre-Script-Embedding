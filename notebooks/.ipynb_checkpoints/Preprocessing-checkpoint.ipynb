{
 "cells": [
  {
   "cell_type": "code",
   "execution_count": 33,
   "metadata": {},
   "outputs": [
    {
     "data": {
      "text/html": [
       "        <script type=\"text/javascript\">\n",
       "        window.PlotlyConfig = {MathJaxConfig: 'local'};\n",
       "        if (window.MathJax) {MathJax.Hub.Config({SVG: {font: \"STIX-Web\"}});}\n",
       "        if (typeof require !== 'undefined') {\n",
       "        require.undef(\"plotly\");\n",
       "        requirejs.config({\n",
       "            paths: {\n",
       "                'plotly': ['https://cdn.plot.ly/plotly-latest.min']\n",
       "            }\n",
       "        });\n",
       "        require(['plotly'], function(Plotly) {\n",
       "            window._Plotly = Plotly;\n",
       "        });\n",
       "        }\n",
       "        </script>\n",
       "        "
      ]
     },
     "metadata": {},
     "output_type": "display_data"
    },
    {
     "name": "stdout",
     "output_type": "stream",
     "text": [
      "GPU Available:  True\n"
     ]
    }
   ],
   "source": [
    "import os\n",
    "import re\n",
    "import tensorflow as tf\n",
    "import numpy as np\n",
    "import pandas as pd\n",
    "import spacy\n",
    "from sklearn.model_selection import train_test_split\n",
    "from sklearn.metrics import classification_report, confusion_matrix, accuracy_score\n",
    "from plotly.offline import iplot, plot, init_notebook_mode\n",
    "import plotly.graph_objs as go\n",
    "from plotly import tools\n",
    "init_notebook_mode(connected=True)\n",
    "\n",
    "from tensorflow.keras import Sequential\n",
    "from tensorflow.keras.layers import GlobalAveragePooling1D, Embedding, Dense, LSTM, Flatten\n",
    "from tensorflow.keras.layers import Conv1D, MaxPool1D\n",
    "from tensorflow.keras.preprocessing.sequence import pad_sequences\n",
    "\n",
    "print(\"GPU Available: \", tf.test.is_gpu_available())"
   ]
  },
  {
   "cell_type": "code",
   "execution_count": 2,
   "metadata": {},
   "outputs": [],
   "source": [
    "nlp = spacy.load(\"en_core_web_lg\")"
   ]
  },
  {
   "cell_type": "code",
   "execution_count": 3,
   "metadata": {},
   "outputs": [],
   "source": [
    "comedy_dir = '../data/comedy/'\n",
    "horror_dir = '../data/horror/'"
   ]
  },
  {
   "cell_type": "markdown",
   "metadata": {},
   "source": [
    "# Combining Comedy and Horror Scripts into 2 large scripts"
   ]
  },
  {
   "cell_type": "code",
   "execution_count": 12,
   "metadata": {},
   "outputs": [],
   "source": [
    "comedy = ''\n",
    "for file in os.listdir(comedy_dir):\n",
    "    \n",
    "    with open(comedy_dir + file) as script:\n",
    "        s = script.read()\n",
    "        comedy += ' ' + s\n",
    "        script.close()\n",
    "        \n",
    "horror = ''\n",
    "for file in os.listdir(horror_dir):\n",
    "    \n",
    "    with open(horror_dir + file) as script:\n",
    "        s = script.read()\n",
    "        horror += ' ' + s\n",
    "        script.close()"
   ]
  },
  {
   "cell_type": "markdown",
   "metadata": {},
   "source": [
    "## Looks like these scripts have character names and other key details in all Caps. \n",
    "\n",
    "## Removing these words to help obscure the text from the film. \n",
    "\n",
    "## Also removing punctuation.\n",
    "\n",
    "## Also Lemmatizing words"
   ]
  },
  {
   "cell_type": "code",
   "execution_count": 15,
   "metadata": {},
   "outputs": [],
   "source": [
    "def text_cleaner(line):\n",
    "    line = re.sub(r'\\b[A-Z]+\\b', '', line)\n",
    "    line = re.sub(r'[^\\w\\s]','', line)\n",
    "    line = re.sub(\" \\d+\", \"\", line)\n",
    "    line = line.lower()\n",
    "    line = ' '.join(line.split())\n",
    "    \n",
    "    lemma_line = []\n",
    "    line = nlp(line)\n",
    "    for word in line:\n",
    "        lemma_line.append(word.lemma_)\n",
    "    \n",
    "    #lemma_line = [l for l in lemma_line]\n",
    "    return ' '.join(lemma_line)"
   ]
  },
  {
   "cell_type": "code",
   "execution_count": 18,
   "metadata": {},
   "outputs": [],
   "source": [
    "if len(comedy) > len(horror):\n",
    "    nlp.max_length = len(comedy) + 1\n",
    "else:\n",
    "    nlp.max_length = len(horror) + 1\n",
    "\n",
    "comedy = text_cleaner(comedy)\n",
    "horror = text_cleaner(horror)"
   ]
  },
  {
   "cell_type": "code",
   "execution_count": 19,
   "metadata": {},
   "outputs": [],
   "source": [
    "# need to batch these into multiple dataframes\n",
    "\n",
    "def line_splitter(line, input_len=25):\n",
    "    split_line = line.split()\n",
    "    line_list = []\n",
    "    for i in range(0, len(line), input_len):\n",
    "        line_list.append(split_line[i:i+input_len])\n",
    "        \n",
    "    return line_list"
   ]
  },
  {
   "cell_type": "code",
   "execution_count": 20,
   "metadata": {},
   "outputs": [],
   "source": [
    "comedy = pd.DataFrame([line_splitter(comedy)]).T\n",
    "horror = pd.DataFrame([line_splitter(horror)]).T\n",
    "\n",
    "\n",
    "comedy.columns = horror.columns = ['line'] #['index', 'line']"
   ]
  },
  {
   "cell_type": "code",
   "execution_count": 21,
   "metadata": {},
   "outputs": [],
   "source": [
    "genre_dict = {\n",
    "    'Comedy': 0,\n",
    "    'Horror': 1\n",
    "}"
   ]
  },
  {
   "cell_type": "code",
   "execution_count": 22,
   "metadata": {},
   "outputs": [],
   "source": [
    "comedy['genre'] = 0\n",
    "horror['genre'] = 1"
   ]
  },
  {
   "cell_type": "code",
   "execution_count": 23,
   "metadata": {},
   "outputs": [],
   "source": [
    "df = pd.concat([comedy, horror])\n",
    "\n",
    "df = df[df.astype(str)['line'] != '[]']"
   ]
  },
  {
   "cell_type": "code",
   "execution_count": 24,
   "metadata": {},
   "outputs": [
    {
     "data": {
      "text/plain": [
       "1    10031\n",
       "0     6841\n",
       "Name: genre, dtype: int64"
      ]
     },
     "execution_count": 24,
     "metadata": {},
     "output_type": "execute_result"
    }
   ],
   "source": [
    "# looks like these are relatively even, Not as much for inglorious bastards as the others, but it should be fine.\n",
    "df['genre'].value_counts()"
   ]
  },
  {
   "cell_type": "markdown",
   "metadata": {},
   "source": [
    "# Begin to assemble word2idx and idx2word"
   ]
  },
  {
   "cell_type": "code",
   "execution_count": 25,
   "metadata": {},
   "outputs": [],
   "source": [
    "df['text'] = df['line'].apply(lambda x: ' '.join(x))\n",
    "\n",
    "all_text = ' '.join(df['text'].values.tolist())\n",
    "all_test_l = list(set(all_text.split()))"
   ]
  },
  {
   "cell_type": "code",
   "execution_count": 26,
   "metadata": {},
   "outputs": [
    {
     "name": "stdout",
     "output_type": "stream",
     "text": [
      "17092 unique vocab words\n"
     ]
    }
   ],
   "source": [
    "# all_test_l contains a unique list of words used in all of the texts\n",
    "print(f'{len(all_test_l)} unique vocab words')"
   ]
  },
  {
   "cell_type": "code",
   "execution_count": 27,
   "metadata": {},
   "outputs": [],
   "source": [
    "word2idx = {'<PAD>': 0, '<UNK>': 1}\n",
    "idx2word = {0: '<PAD>', 1: '<UNK>'}\n",
    "\n",
    "for i in range(len(all_test_l)):\n",
    "    idx2word[i+2] = all_test_l[i]\n",
    "    word2idx[idx2word[i]] = i"
   ]
  },
  {
   "cell_type": "code",
   "execution_count": 28,
   "metadata": {},
   "outputs": [],
   "source": [
    "def word2idx_mapper(line):\n",
    "    idx_list = []\n",
    "    for word in line:\n",
    "        try:\n",
    "            idx_list.append(word2idx[word])\n",
    "        except:\n",
    "            idx_list.append(word2idx['<UNK>'])\n",
    "            pass\n",
    "    return idx_list"
   ]
  },
  {
   "cell_type": "code",
   "execution_count": 29,
   "metadata": {},
   "outputs": [],
   "source": [
    "df['tokenized'] = df['line'].map(word2idx_mapper)"
   ]
  },
  {
   "cell_type": "code",
   "execution_count": 30,
   "metadata": {},
   "outputs": [
    {
     "data": {
      "text/html": [
       "<div>\n",
       "<style scoped>\n",
       "    .dataframe tbody tr th:only-of-type {\n",
       "        vertical-align: middle;\n",
       "    }\n",
       "\n",
       "    .dataframe tbody tr th {\n",
       "        vertical-align: top;\n",
       "    }\n",
       "\n",
       "    .dataframe thead th {\n",
       "        text-align: right;\n",
       "    }\n",
       "</style>\n",
       "<table border=\"1\" class=\"dataframe\">\n",
       "  <thead>\n",
       "    <tr style=\"text-align: right;\">\n",
       "      <th></th>\n",
       "      <th>line</th>\n",
       "      <th>genre</th>\n",
       "      <th>text</th>\n",
       "      <th>tokenized</th>\n",
       "    </tr>\n",
       "  </thead>\n",
       "  <tbody>\n",
       "    <tr>\n",
       "      <th>0</th>\n",
       "      <td>[endless, green, hill, bisect, by, a, ribbon, ...</td>\n",
       "      <td>0</td>\n",
       "      <td>endless green hill bisect by a ribbon of highw...</td>\n",
       "      <td>[14979, 4158, 9320, 13556, 111, 8402, 14125, 1...</td>\n",
       "    </tr>\n",
       "    <tr>\n",
       "      <th>1</th>\n",
       "      <td>[through, midafternoon, labor, flank, the, wor...</td>\n",
       "      <td>0</td>\n",
       "      <td>through midafternoon labor flank the work pris...</td>\n",
       "      <td>[11449, 16351, 8205, 12513, 9685, 8069, 5288, ...</td>\n",
       "    </tr>\n",
       "    <tr>\n",
       "      <th>2</th>\n",
       "      <td>[name, get, out, and, start, curse, and, kick,...</td>\n",
       "      <td>0</td>\n",
       "      <td>name get out and start curse and kick the vehi...</td>\n",
       "      <td>[6961, 647, 10155, 3517, 1722, 15727, 3517, 11...</td>\n",
       "    </tr>\n",
       "    <tr>\n",
       "      <th>3</th>\n",
       "      <td>[gang, smile, at, the, oncoming, man, poke, a,...</td>\n",
       "      <td>0</td>\n",
       "      <td>gang smile at the oncoming man poke a prisoner...</td>\n",
       "      <td>[13538, 1889, 15095, 9685, 2799, 14309, 11337,...</td>\n",
       "    </tr>\n",
       "    <tr>\n",
       "      <th>4</th>\n",
       "      <td>[yeah, there, go, the, neighborhood, brady, la...</td>\n",
       "      <td>0</td>\n",
       "      <td>yeah there go the neighborhood brady laugh as ...</td>\n",
       "      <td>[3223, 17055, 8417, 9685, 8895, 11165, 13656, ...</td>\n",
       "    </tr>\n",
       "  </tbody>\n",
       "</table>\n",
       "</div>"
      ],
      "text/plain": [
       "                                                line  genre  \\\n",
       "0  [endless, green, hill, bisect, by, a, ribbon, ...      0   \n",
       "1  [through, midafternoon, labor, flank, the, wor...      0   \n",
       "2  [name, get, out, and, start, curse, and, kick,...      0   \n",
       "3  [gang, smile, at, the, oncoming, man, poke, a,...      0   \n",
       "4  [yeah, there, go, the, neighborhood, brady, la...      0   \n",
       "\n",
       "                                                text  \\\n",
       "0  endless green hill bisect by a ribbon of highw...   \n",
       "1  through midafternoon labor flank the work pris...   \n",
       "2  name get out and start curse and kick the vehi...   \n",
       "3  gang smile at the oncoming man poke a prisoner...   \n",
       "4  yeah there go the neighborhood brady laugh as ...   \n",
       "\n",
       "                                           tokenized  \n",
       "0  [14979, 4158, 9320, 13556, 111, 8402, 14125, 1...  \n",
       "1  [11449, 16351, 8205, 12513, 9685, 8069, 5288, ...  \n",
       "2  [6961, 647, 10155, 3517, 1722, 15727, 3517, 11...  \n",
       "3  [13538, 1889, 15095, 9685, 2799, 14309, 11337,...  \n",
       "4  [3223, 17055, 8417, 9685, 8895, 11165, 13656, ...  "
      ]
     },
     "execution_count": 30,
     "metadata": {},
     "output_type": "execute_result"
    }
   ],
   "source": [
    "df.head()"
   ]
  },
  {
   "cell_type": "code",
   "execution_count": 36,
   "metadata": {},
   "outputs": [],
   "source": [
    "X = df['tokenized']\n",
    "y = df['genre']\n",
    "\n",
    "maxlen = 25\n",
    "\n",
    "X = pad_sequences(\n",
    "    X,\n",
    "    maxlen=maxlen,\n",
    "    padding='post'\n",
    ")\n",
    "\n",
    "X_train, X_test, y_train, y_test = train_test_split(X, y, test_size=0.2, random_state=101)"
   ]
  },
  {
   "cell_type": "markdown",
   "metadata": {},
   "source": [
    "# Time to model!"
   ]
  },
  {
   "cell_type": "code",
   "execution_count": 46,
   "metadata": {
    "scrolled": true
   },
   "outputs": [
    {
     "name": "stdout",
     "output_type": "stream",
     "text": [
      "_________________________________________________________________\n",
      "Layer (type)                 Output Shape              Param #   \n",
      "=================================================================\n",
      "embedding_5 (Embedding)      (None, 25, 16)            273472    \n",
      "_________________________________________________________________\n",
      "global_average_pooling1d_5 ( (None, 16)                0         \n",
      "_________________________________________________________________\n",
      "dense_10 (Dense)             (None, 16)                272       \n",
      "_________________________________________________________________\n",
      "dense_11 (Dense)             (None, 1)                 17        \n",
      "=================================================================\n",
      "Total params: 273,761\n",
      "Trainable params: 273,761\n",
      "Non-trainable params: 0\n",
      "_________________________________________________________________\n",
      "Train on 11810 samples, validate on 5062 samples\n",
      "Epoch 1/30\n",
      "11810/11810 [==============================] - ETA: 8s - loss: 0.6932 - acc: 0.503 - ETA: 0s - loss: 0.6898 - acc: 0.570 - 1s 48us/step - loss: 0.6863 - acc: 0.5753 - val_loss: 0.7400 - val_acc: 0.0000e+00\n",
      "Epoch 2/30\n",
      "11810/11810 [==============================] - ETA: 0s - loss: 0.6730 - acc: 0.605 - ETA: 0s - loss: 0.6712 - acc: 0.575 - 0s 10us/step - loss: 0.6653 - acc: 0.5793 - val_loss: 0.7887 - val_acc: 0.0000e+00\n",
      "Epoch 3/30\n",
      "11810/11810 [==============================] - ETA: 0s - loss: 0.6608 - acc: 0.537 - ETA: 0s - loss: 0.6409 - acc: 0.580 - 0s 9us/step - loss: 0.6331 - acc: 0.5905 - val_loss: 0.8119 - val_acc: 0.0298\n",
      "Epoch 4/30\n",
      "11810/11810 [==============================] - ETA: 0s - loss: 0.6115 - acc: 0.630 - ETA: 0s - loss: 0.5941 - acc: 0.688 - 0s 9us/step - loss: 0.5853 - acc: 0.7087 - val_loss: 0.8169 - val_acc: 0.1780\n",
      "Epoch 5/30\n",
      "11810/11810 [==============================] - ETA: 0s - loss: 0.5572 - acc: 0.775 - ETA: 0s - loss: 0.5324 - acc: 0.802 - 0s 9us/step - loss: 0.5218 - acc: 0.8148 - val_loss: 0.8048 - val_acc: 0.3258\n",
      "Epoch 6/30\n",
      "11810/11810 [==============================] - ETA: 0s - loss: 0.4892 - acc: 0.847 - ETA: 0s - loss: 0.4626 - acc: 0.875 - 0s 8us/step - loss: 0.4522 - acc: 0.8793 - val_loss: 0.7841 - val_acc: 0.4218\n",
      "Epoch 7/30\n",
      "11810/11810 [==============================] - ETA: 0s - loss: 0.4176 - acc: 0.906 - ETA: 0s - loss: 0.3925 - acc: 0.909 - 0s 9us/step - loss: 0.3832 - acc: 0.9139 - val_loss: 0.7456 - val_acc: 0.5099\n",
      "Epoch 8/30\n",
      "11810/11810 [==============================] - ETA: 0s - loss: 0.3525 - acc: 0.929 - ETA: 0s - loss: 0.3264 - acc: 0.930 - 0s 8us/step - loss: 0.3191 - acc: 0.9355 - val_loss: 0.6673 - val_acc: 0.6096\n",
      "Epoch 9/30\n",
      "11810/11810 [==============================] - ETA: 0s - loss: 0.2723 - acc: 0.959 - ETA: 0s - loss: 0.2735 - acc: 0.958 - 0s 10us/step - loss: 0.2634 - acc: 0.9607 - val_loss: 0.6388 - val_acc: 0.6420\n",
      "Epoch 10/30\n",
      "11810/11810 [==============================] - ETA: 0s - loss: 0.2391 - acc: 0.966 - ETA: 0s - loss: 0.2238 - acc: 0.968 - 0s 10us/step - loss: 0.2165 - acc: 0.9688 - val_loss: 0.5775 - val_acc: 0.6966\n",
      "Epoch 11/30\n",
      "11810/11810 [==============================] - ETA: 0s - loss: 0.1936 - acc: 0.976 - ETA: 0s - loss: 0.1834 - acc: 0.973 - 0s 9us/step - loss: 0.1789 - acc: 0.9755 - val_loss: 0.5460 - val_acc: 0.7213\n",
      "Epoch 12/30\n",
      "11810/11810 [==============================] - ETA: 0s - loss: 0.1600 - acc: 0.982 - ETA: 0s - loss: 0.1510 - acc: 0.984 - 0s 8us/step - loss: 0.1489 - acc: 0.9815 - val_loss: 0.5086 - val_acc: 0.7479\n",
      "Epoch 13/30\n",
      "11810/11810 [==============================] - ETA: 0s - loss: 0.1349 - acc: 0.988 - ETA: 0s - loss: 0.1269 - acc: 0.986 - 0s 8us/step - loss: 0.1249 - acc: 0.9854 - val_loss: 0.4847 - val_acc: 0.7623\n",
      "Epoch 14/30\n",
      "11810/11810 [==============================] - ETA: 0s - loss: 0.1061 - acc: 0.992 - ETA: 0s - loss: 0.1088 - acc: 0.987 - 0s 10us/step - loss: 0.1058 - acc: 0.9883 - val_loss: 0.4610 - val_acc: 0.7768\n",
      "Epoch 15/30\n",
      "11810/11810 [==============================] - ETA: 0s - loss: 0.0949 - acc: 0.986 - ETA: 0s - loss: 0.0939 - acc: 0.988 - 0s 9us/step - loss: 0.0905 - acc: 0.9904 - val_loss: 0.4416 - val_acc: 0.7874\n",
      "Epoch 16/30\n",
      "11810/11810 [==============================] - ETA: 0s - loss: 0.0730 - acc: 0.996 - ETA: 0s - loss: 0.0797 - acc: 0.992 - 0s 9us/step - loss: 0.0782 - acc: 0.9925 - val_loss: 0.4197 - val_acc: 0.8011\n",
      "Epoch 17/30\n",
      "11810/11810 [==============================] - ETA: 0s - loss: 0.0724 - acc: 0.998 - ETA: 0s - loss: 0.0704 - acc: 0.994 - 0s 9us/step - loss: 0.0680 - acc: 0.9942 - val_loss: 0.4212 - val_acc: 0.8011\n",
      "Epoch 18/30\n",
      "11810/11810 [==============================] - ETA: 0s - loss: 0.0631 - acc: 0.992 - ETA: 0s - loss: 0.0613 - acc: 0.993 - 0s 9us/step - loss: 0.0596 - acc: 0.9942 - val_loss: 0.4069 - val_acc: 0.8096\n",
      "Epoch 19/30\n",
      "11810/11810 [==============================] - ETA: 0s - loss: 0.0583 - acc: 0.998 - ETA: 0s - loss: 0.0523 - acc: 0.996 - 0s 9us/step - loss: 0.0527 - acc: 0.9959 - val_loss: 0.3961 - val_acc: 0.8155\n",
      "Epoch 20/30\n",
      "11810/11810 [==============================] - ETA: 0s - loss: 0.0569 - acc: 0.990 - ETA: 0s - loss: 0.0482 - acc: 0.995 - 0s 9us/step - loss: 0.0468 - acc: 0.9966 - val_loss: 0.3953 - val_acc: 0.8169\n",
      "Epoch 21/30\n",
      "11810/11810 [==============================] - ETA: 0s - loss: 0.0481 - acc: 0.996 - ETA: 0s - loss: 0.0415 - acc: 0.997 - 0s 9us/step - loss: 0.0419 - acc: 0.9967 - val_loss: 0.3871 - val_acc: 0.8218\n",
      "Epoch 22/30\n",
      "11810/11810 [==============================] - ETA: 0s - loss: 0.0467 - acc: 0.996 - ETA: 0s - loss: 0.0384 - acc: 0.997 - 0s 9us/step - loss: 0.0376 - acc: 0.9977 - val_loss: 0.3849 - val_acc: 0.8240\n",
      "Epoch 23/30\n",
      "11810/11810 [==============================] - ETA: 0s - loss: 0.0309 - acc: 1.000 - ETA: 0s - loss: 0.0352 - acc: 0.998 - 0s 10us/step - loss: 0.0340 - acc: 0.9980 - val_loss: 0.3819 - val_acc: 0.8246\n",
      "Epoch 24/30\n",
      "11810/11810 [==============================] - ETA: 0s - loss: 0.0371 - acc: 0.996 - ETA: 0s - loss: 0.0310 - acc: 0.998 - 0s 9us/step - loss: 0.0308 - acc: 0.9984 - val_loss: 0.3775 - val_acc: 0.8279\n",
      "Epoch 25/30\n",
      "11810/11810 [==============================] - ETA: 0s - loss: 0.0263 - acc: 1.000 - ETA: 0s - loss: 0.0273 - acc: 0.998 - 0s 9us/step - loss: 0.0281 - acc: 0.9984 - val_loss: 0.3801 - val_acc: 0.8273\n",
      "Epoch 26/30\n",
      "11810/11810 [==============================] - ETA: 0s - loss: 0.0237 - acc: 0.996 - ETA: 0s - loss: 0.0248 - acc: 0.999 - 0s 8us/step - loss: 0.0256 - acc: 0.9987 - val_loss: 0.3764 - val_acc: 0.8315\n",
      "Epoch 27/30\n",
      "11810/11810 [==============================] - ETA: 0s - loss: 0.0224 - acc: 1.000 - ETA: 0s - loss: 0.0235 - acc: 0.999 - 0s 8us/step - loss: 0.0232 - acc: 0.9990 - val_loss: 0.3700 - val_acc: 0.8350\n",
      "Epoch 28/30\n",
      "11810/11810 [==============================] - ETA: 0s - loss: 0.0189 - acc: 1.000 - ETA: 0s - loss: 0.0215 - acc: 0.999 - 0s 8us/step - loss: 0.0211 - acc: 0.9991 - val_loss: 0.3773 - val_acc: 0.8329\n",
      "Epoch 29/30\n",
      "11810/11810 [==============================] - ETA: 0s - loss: 0.0179 - acc: 0.998 - ETA: 0s - loss: 0.0197 - acc: 0.999 - 0s 8us/step - loss: 0.0193 - acc: 0.9992 - val_loss: 0.3774 - val_acc: 0.8345\n",
      "Epoch 30/30\n",
      "11810/11810 [==============================] - ETA: 0s - loss: 0.0182 - acc: 0.998 - ETA: 0s - loss: 0.0177 - acc: 0.999 - 0s 10us/step - loss: 0.0175 - acc: 0.9992 - val_loss: 0.3845 - val_acc: 0.8343\n"
     ]
    }
   ],
   "source": [
    "embedding_dim = 16\n",
    "vocab_size = len(word2idx)\n",
    "\n",
    "model = Sequential()\n",
    "model.add(Embedding(vocab_size, embedding_dim, input_length=maxlen))\n",
    "model.add(GlobalAveragePooling1D())\n",
    "#model.add(Flatten())\n",
    "#model.add(LSTM(100))\n",
    "model.add(Dense(16, activation='relu'))\n",
    "model.add(Dense(1, activation='sigmoid'))\n",
    "\n",
    "model.summary()\n",
    "\n",
    "model.compile(optimizer='adam',\n",
    "              loss='binary_crossentropy',\n",
    "              metrics=['accuracy'])\n",
    "\n",
    "history = model.fit(X, y,\n",
    "    epochs=30,\n",
    "    batch_size=512,\n",
    "    validation_split=0.3)"
   ]
  },
  {
   "cell_type": "code",
   "execution_count": 47,
   "metadata": {},
   "outputs": [
    {
     "name": "stdout",
     "output_type": "stream",
     "text": [
      "This is the format of your plot grid:\n",
      "[ (1,1) x1,y1 ]  [ (1,2) x2,y2 ]\n",
      "\n"
     ]
    },
    {
     "data": {
      "application/vnd.plotly.v1+json": {
       "config": {
        "linkText": "Export to plot.ly",
        "plotlyServerURL": "https://plot.ly",
        "showLink": false
       },
       "data": [
        {
         "name": "loss",
         "type": "scatter",
         "uid": "07cbd49f-a4d3-4906-b4d2-3477014c8141",
         "x": [
          0,
          1,
          2,
          3,
          4,
          5,
          6,
          7,
          8,
          9,
          10,
          11,
          12,
          13,
          14,
          15,
          16,
          17,
          18,
          19,
          20,
          21,
          22,
          23,
          24,
          25,
          26,
          27,
          28,
          29
         ],
         "xaxis": "x2",
         "y": [
          0.6862842803986571,
          0.6653061345812631,
          0.6330818627266234,
          0.5853007214640683,
          0.5218079504877909,
          0.4522285774337549,
          0.3832279900692965,
          0.3191483383053546,
          0.2633870697243551,
          0.2164896729434576,
          0.178877161406643,
          0.14885501862581657,
          0.12488090586828843,
          0.10577204780847112,
          0.09046790898855615,
          0.07818846203935641,
          0.06798378322131547,
          0.05962277406433898,
          0.05270371770140834,
          0.046831622647214605,
          0.04191491916069128,
          0.03763156074393386,
          0.03401637601648015,
          0.030822914586442693,
          0.0280847602489954,
          0.025551531618740173,
          0.023231822649721973,
          0.02114560002434264,
          0.019270097263075353,
          0.017496816709536702
         ],
         "yaxis": "y2"
        },
        {
         "name": "val_loss",
         "type": "scatter",
         "uid": "37bfb379-2d25-4cdb-afe6-612e80df6cf4",
         "x": [
          0,
          1,
          2,
          3,
          4,
          5,
          6,
          7,
          8,
          9,
          10,
          11,
          12,
          13,
          14,
          15,
          16,
          17,
          18,
          19,
          20,
          21,
          22,
          23,
          24,
          25,
          26,
          27,
          28,
          29
         ],
         "xaxis": "x2",
         "y": [
          0.740035552485853,
          0.7886606723552917,
          0.8119305295230183,
          0.8169091098254869,
          0.8048061625800176,
          0.7840619955501835,
          0.745631259286512,
          0.6672582987361819,
          0.638783932273824,
          0.5775398762976873,
          0.545984564645636,
          0.5086378233675805,
          0.48473166067672785,
          0.46102059427950515,
          0.44156476307744236,
          0.4196879011470308,
          0.42123235414170407,
          0.40686533534446756,
          0.396113236682399,
          0.3952669544754081,
          0.38711555639494555,
          0.3849091884389031,
          0.3818963465366567,
          0.3775029499414927,
          0.38013546695731837,
          0.37635652257585095,
          0.3699712982671339,
          0.37734546168243305,
          0.37737639835350884,
          0.384475478620597
         ],
         "yaxis": "y2"
        },
        {
         "name": "acc",
         "type": "scatter",
         "uid": "b5cfbd44-00a5-41bb-a652-7018a628e49e",
         "x": [
          0,
          1,
          2,
          3,
          4,
          5,
          6,
          7,
          8,
          9,
          10,
          11,
          12,
          13,
          14,
          15,
          16,
          17,
          18,
          19,
          20,
          21,
          22,
          23,
          24,
          25,
          26,
          27,
          28,
          29
         ],
         "xaxis": "x",
         "y": [
          0.5752751905669811,
          0.5792548687351042,
          0.5905165114208968,
          0.7087214224627217,
          0.8148179508386074,
          0.8793395427805604,
          0.9138865368331922,
          0.9354784080681409,
          0.9607112616527697,
          0.9687552921253175,
          0.9755292125317527,
          0.9815410669025579,
          0.9853513971210838,
          0.9883149873089931,
          0.9904318373451588,
          0.9924640135478409,
          0.9941574936494496,
          0.994242167664624,
          0.9959356477561389,
          0.9966130397967824,
          0.9966977138018628,
          0.9977138018628281,
          0.9979678238780695,
          0.9983911939034716,
          0.9983911939034716,
          0.9987298899237934,
          0.9989839119390347,
          0.9990685859441152,
          0.9991532599491956,
          0.9991532599491956
         ],
         "yaxis": "y"
        },
        {
         "name": "val_acc",
         "type": "scatter",
         "uid": "d27f44a3-9a74-4ccd-b67b-71dc08da448c",
         "x": [
          0,
          1,
          2,
          3,
          4,
          5,
          6,
          7,
          8,
          9,
          10,
          11,
          12,
          13,
          14,
          15,
          16,
          17,
          18,
          19,
          20,
          21,
          22,
          23,
          24,
          25,
          26,
          27,
          28,
          29
         ],
         "xaxis": "x",
         "y": [
          0,
          0,
          0.02983010659625011,
          0.17799288753886697,
          0.32576056819148613,
          0.4217700517163452,
          0.5098775214048678,
          0.609640457257128,
          0.6420387213572076,
          0.6965626234218849,
          0.7212564222476361,
          0.7479257218360147,
          0.7623468993304512,
          0.7767680773665339,
          0.787435798271048,
          0.8010667718149183,
          0.8010667706374263,
          0.8095614374131377,
          0.8154879481318628,
          0.8168708007592828,
          0.8218095631337552,
          0.8239826160850661,
          0.8245752660336112,
          0.8279336224144883,
          0.8273409712884512,
          0.8314895291707112,
          0.8350454389177636,
          0.8328723806206392,
          0.8344527877917265,
          0.8342552332480592
         ],
         "yaxis": "y"
        }
       ],
       "layout": {
        "title": {
         "text": "Accuracy | Loss"
        },
        "xaxis": {
         "anchor": "y",
         "domain": [
          0,
          0.45
         ]
        },
        "xaxis2": {
         "anchor": "y2",
         "domain": [
          0.55,
          1
         ]
        },
        "yaxis": {
         "anchor": "x",
         "domain": [
          0,
          1
         ]
        },
        "yaxis2": {
         "anchor": "x2",
         "domain": [
          0,
          1
         ]
        }
       }
      },
      "text/html": [
       "<div>\n",
       "        \n",
       "        \n",
       "            <div id=\"add435b2-0a58-4546-94ba-2809dbd007a7\" class=\"plotly-graph-div\" style=\"height:525px; width:100%;\"></div>\n",
       "            <script type=\"text/javascript\">\n",
       "                require([\"plotly\"], function(Plotly) {\n",
       "                    window.PLOTLYENV=window.PLOTLYENV || {};\n",
       "                    window.PLOTLYENV.BASE_URL='https://plot.ly';\n",
       "                    \n",
       "                if (document.getElementById(\"add435b2-0a58-4546-94ba-2809dbd007a7\")) {\n",
       "                    Plotly.newPlot(\n",
       "                        'add435b2-0a58-4546-94ba-2809dbd007a7',\n",
       "                        [{\"name\": \"loss\", \"type\": \"scatter\", \"uid\": \"07cbd49f-a4d3-4906-b4d2-3477014c8141\", \"x\": [0, 1, 2, 3, 4, 5, 6, 7, 8, 9, 10, 11, 12, 13, 14, 15, 16, 17, 18, 19, 20, 21, 22, 23, 24, 25, 26, 27, 28, 29], \"xaxis\": \"x2\", \"y\": [0.6862842803986571, 0.6653061345812631, 0.6330818627266234, 0.5853007214640683, 0.5218079504877909, 0.4522285774337549, 0.3832279900692965, 0.3191483383053546, 0.2633870697243551, 0.2164896729434576, 0.178877161406643, 0.14885501862581657, 0.12488090586828843, 0.10577204780847112, 0.09046790898855615, 0.07818846203935641, 0.06798378322131547, 0.05962277406433898, 0.05270371770140834, 0.046831622647214605, 0.04191491916069128, 0.03763156074393386, 0.03401637601648015, 0.030822914586442693, 0.0280847602489954, 0.025551531618740173, 0.023231822649721973, 0.02114560002434264, 0.019270097263075353, 0.017496816709536702], \"yaxis\": \"y2\"}, {\"name\": \"val_loss\", \"type\": \"scatter\", \"uid\": \"37bfb379-2d25-4cdb-afe6-612e80df6cf4\", \"x\": [0, 1, 2, 3, 4, 5, 6, 7, 8, 9, 10, 11, 12, 13, 14, 15, 16, 17, 18, 19, 20, 21, 22, 23, 24, 25, 26, 27, 28, 29], \"xaxis\": \"x2\", \"y\": [0.740035552485853, 0.7886606723552917, 0.8119305295230183, 0.8169091098254869, 0.8048061625800176, 0.7840619955501835, 0.745631259286512, 0.6672582987361819, 0.638783932273824, 0.5775398762976873, 0.545984564645636, 0.5086378233675805, 0.48473166067672785, 0.46102059427950515, 0.44156476307744236, 0.4196879011470308, 0.42123235414170407, 0.40686533534446756, 0.396113236682399, 0.3952669544754081, 0.38711555639494555, 0.3849091884389031, 0.3818963465366567, 0.3775029499414927, 0.38013546695731837, 0.37635652257585095, 0.3699712982671339, 0.37734546168243305, 0.37737639835350884, 0.384475478620597], \"yaxis\": \"y2\"}, {\"name\": \"acc\", \"type\": \"scatter\", \"uid\": \"b5cfbd44-00a5-41bb-a652-7018a628e49e\", \"x\": [0, 1, 2, 3, 4, 5, 6, 7, 8, 9, 10, 11, 12, 13, 14, 15, 16, 17, 18, 19, 20, 21, 22, 23, 24, 25, 26, 27, 28, 29], \"xaxis\": \"x\", \"y\": [0.5752751905669811, 0.5792548687351042, 0.5905165114208968, 0.7087214224627217, 0.8148179508386074, 0.8793395427805604, 0.9138865368331922, 0.9354784080681409, 0.9607112616527697, 0.9687552921253175, 0.9755292125317527, 0.9815410669025579, 0.9853513971210838, 0.9883149873089931, 0.9904318373451588, 0.9924640135478409, 0.9941574936494496, 0.994242167664624, 0.9959356477561389, 0.9966130397967824, 0.9966977138018628, 0.9977138018628281, 0.9979678238780695, 0.9983911939034716, 0.9983911939034716, 0.9987298899237934, 0.9989839119390347, 0.9990685859441152, 0.9991532599491956, 0.9991532599491956], \"yaxis\": \"y\"}, {\"name\": \"val_acc\", \"type\": \"scatter\", \"uid\": \"d27f44a3-9a74-4ccd-b67b-71dc08da448c\", \"x\": [0, 1, 2, 3, 4, 5, 6, 7, 8, 9, 10, 11, 12, 13, 14, 15, 16, 17, 18, 19, 20, 21, 22, 23, 24, 25, 26, 27, 28, 29], \"xaxis\": \"x\", \"y\": [0.0, 0.0, 0.02983010659625011, 0.17799288753886697, 0.32576056819148613, 0.4217700517163452, 0.5098775214048678, 0.609640457257128, 0.6420387213572076, 0.6965626234218849, 0.7212564222476361, 0.7479257218360147, 0.7623468993304512, 0.7767680773665339, 0.787435798271048, 0.8010667718149183, 0.8010667706374263, 0.8095614374131377, 0.8154879481318628, 0.8168708007592828, 0.8218095631337552, 0.8239826160850661, 0.8245752660336112, 0.8279336224144883, 0.8273409712884512, 0.8314895291707112, 0.8350454389177636, 0.8328723806206392, 0.8344527877917265, 0.8342552332480592], \"yaxis\": \"y\"}],\n",
       "                        {\"title\": {\"text\": \"Accuracy | Loss\"}, \"xaxis\": {\"anchor\": \"y\", \"domain\": [0.0, 0.45]}, \"xaxis2\": {\"anchor\": \"y2\", \"domain\": [0.55, 1.0]}, \"yaxis\": {\"anchor\": \"x\", \"domain\": [0.0, 1.0]}, \"yaxis2\": {\"anchor\": \"x2\", \"domain\": [0.0, 1.0]}},\n",
       "                        {\"showLink\": false, \"linkText\": \"Export to plot.ly\", \"plotlyServerURL\": \"https://plot.ly\", \"responsive\": true}\n",
       "                    ).then(function(){\n",
       "                            \n",
       "var gd = document.getElementById('add435b2-0a58-4546-94ba-2809dbd007a7');\n",
       "var x = new MutationObserver(function (mutations, observer) {{\n",
       "        var display = window.getComputedStyle(gd).display;\n",
       "        if (!display || display === 'none') {{\n",
       "            console.log([gd, 'removed!']);\n",
       "            Plotly.purge(gd);\n",
       "            observer.disconnect();\n",
       "        }}\n",
       "}});\n",
       "\n",
       "// Listen for the removal of the full notebook cells\n",
       "var notebookContainer = gd.closest('#notebook-container');\n",
       "if (notebookContainer) {{\n",
       "    x.observe(notebookContainer, {childList: true});\n",
       "}}\n",
       "\n",
       "// Listen for the clearing of the current output cell\n",
       "var outputEl = gd.closest('.output');\n",
       "if (outputEl) {{\n",
       "    x.observe(outputEl, {childList: true});\n",
       "}}\n",
       "\n",
       "                        })\n",
       "                };\n",
       "                });\n",
       "            </script>\n",
       "        </div>"
      ]
     },
     "metadata": {},
     "output_type": "display_data"
    }
   ],
   "source": [
    "history = pd.DataFrame(history.history)\n",
    "\n",
    "loss = go.Scatter(\n",
    "    x = history.index,\n",
    "    y = history.loss,\n",
    "    name = 'loss'\n",
    ")\n",
    "\n",
    "val_loss = go.Scatter(\n",
    "    x = history.index,\n",
    "    y = history.val_loss,\n",
    "    name = 'val_loss'\n",
    ")\n",
    "\n",
    "acc = go.Scatter(\n",
    "    x = history.index,\n",
    "    y = history.acc,\n",
    "    name = 'acc'\n",
    ")\n",
    "\n",
    "val_acc = go.Scatter(\n",
    "    x = history.index,\n",
    "    y = history.val_acc,\n",
    "    name = 'val_acc'\n",
    ")\n",
    "\n",
    "fig = tools.make_subplots(rows=1, cols=2)\n",
    "\n",
    "fig.append_trace(loss, 1, 2)\n",
    "fig.append_trace(val_loss, 1, 2)\n",
    "\n",
    "fig.append_trace(acc, 1, 1)\n",
    "fig.append_trace(val_acc, 1, 1)\n",
    "\n",
    "fig['layout'].update(title='Accuracy | Loss')\n",
    "\n",
    "iplot(fig)"
   ]
  },
  {
   "cell_type": "code",
   "execution_count": null,
   "metadata": {},
   "outputs": [],
   "source": []
  },
  {
   "cell_type": "code",
   "execution_count": null,
   "metadata": {},
   "outputs": [],
   "source": []
  }
 ],
 "metadata": {
  "kernelspec": {
   "display_name": "Python 3",
   "language": "python",
   "name": "python3"
  },
  "language_info": {
   "codemirror_mode": {
    "name": "ipython",
    "version": 3
   },
   "file_extension": ".py",
   "mimetype": "text/x-python",
   "name": "python",
   "nbconvert_exporter": "python",
   "pygments_lexer": "ipython3",
   "version": "3.6.6"
  }
 },
 "nbformat": 4,
 "nbformat_minor": 2
}
